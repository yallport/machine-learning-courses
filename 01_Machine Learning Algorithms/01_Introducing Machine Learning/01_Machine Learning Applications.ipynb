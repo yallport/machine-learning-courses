{
 "cells": [
  {
   "cell_type": "markdown",
   "metadata": {},
   "source": [
    "## Recognizing Machine Learning Applications"
   ]
  },
  {
   "cell_type": "markdown",
   "metadata": {
    "collapsed": true
   },
   "source": [
    "#### Course includes\n",
    "\n",
    "- Classifying data into pre-defined categories\n",
    "\n",
    "- Predicting relationships between variables with regression\n",
    "\n",
    "- Recommending products to a user\n",
    "\n",
    "- Clustering large datasets into meaningful groups\n",
    "\n",
    "\n"
   ]
  },
  {
   "cell_type": "markdown",
   "metadata": {},
   "source": [
    "----------"
   ]
  },
  {
   "cell_type": "markdown",
   "metadata": {},
   "source": [
    "## Making Inferences from Data\n",
    "\n",
    "### Rule Based Approach\n",
    "\n",
    "A rule-based system has two main components:\n",
    "\n",
    "- A set of facts: also known as the knowledge base. These facts are a combination of data, such as income and a condition such as \"is zero\" or \"is greater than $10k.\"\n",
    "\n",
    "\n",
    "- A set of rules: also known as the rules engine. It is the rules that describe the relationship between the IF and the THEN statements. Rules are written manually.\n",
    "\n",
    "Rules are easy to write, but need to account for special cases. Rules systems can become unwieldy, and are static. \n"
   ]
  },
  {
   "cell_type": "markdown",
   "metadata": {},
   "source": [
    "### Machine Learning Based Approach\n",
    "\n",
    "Based on models. Machine learning is probabilistic and uses statistical models rather than deterministic rules. \n",
    "\n",
    "Machine learning models need to be trained on data. Rules get updated based on historical data, and are dynamic.\n",
    "\n",
    "Similar to how humans learn. Humans learn to identify patterns when they're exposed to a phenomenon for a prolonged period of time, learn from 'experience.' "
   ]
  },
  {
   "cell_type": "markdown",
   "metadata": {},
   "source": [
    "--------"
   ]
  },
  {
   "cell_type": "markdown",
   "metadata": {},
   "source": [
    "### When to Use Machine Learning\n",
    "\n",
    "- Difficult for humans to express rules\n",
    "\n",
    "- A large amount of historical data is available\n",
    "\n",
    "- If the patters or relationships among the data are dynamic and keep changing with time\n",
    "\n",
    "\n"
   ]
  },
  {
   "cell_type": "markdown",
   "metadata": {},
   "source": [
    "-----"
   ]
  },
  {
   "cell_type": "markdown",
   "metadata": {},
   "source": [
    "### Knowing When to Use Machine Learning\n",
    "\n"
   ]
  },
  {
   "cell_type": "markdown",
   "metadata": {},
   "source": [
    "![workflow](Images/01_01.jpg)"
   ]
  },
  {
   "cell_type": "code",
   "execution_count": null,
   "metadata": {
    "collapsed": true
   },
   "outputs": [],
   "source": []
  }
 ],
 "metadata": {
  "kernelspec": {
   "display_name": "Python 3",
   "language": "python",
   "name": "python3"
  },
  "language_info": {
   "codemirror_mode": {
    "name": "ipython",
    "version": 3
   },
   "file_extension": ".py",
   "mimetype": "text/x-python",
   "name": "python",
   "nbconvert_exporter": "python",
   "pygments_lexer": "ipython3",
   "version": "3.6.4"
  }
 },
 "nbformat": 4,
 "nbformat_minor": 2
}
